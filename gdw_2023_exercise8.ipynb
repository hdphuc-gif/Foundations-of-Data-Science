{
 "cells": [
  {
   "cell_type": "markdown",
   "metadata": {},
   "source": [
    "# Foundations of Data Science (GDW) 2023\n",
    "\n",
    "\n",
    "\n",
    "# Exercise VIII: Search & Similarity\n",
    "\n",
    "The similarity of two sets is an important property. We saw this in the frequent pattern mining and\n",
    "in clustering algorithms. In supervised learning the distance computation is crucial to evluate and\n",
    "optimize (i.e. to learn) models."
   ]
  },
  {
   "cell_type": "markdown",
   "metadata": {},
   "source": [
    "## Part 1: Jaccard Similarity\n",
    "\n",
    "We saw how to compute the Jaccard similarity in the lecture."
   ]
  },
  {
   "cell_type": "markdown",
   "metadata": {},
   "source": [
    "### Task 1.1\n",
    "Implement the Jaccard similarity for two sets $A, B$."
   ]
  },
  {
   "cell_type": "code",
   "execution_count": null,
   "metadata": {},
   "outputs": [],
   "source": [
    "# write your code here"
   ]
  },
  {
   "cell_type": "markdown",
   "metadata": {},
   "source": [
    "### Task 1.2\n",
    "Suppose you have two sets $(32,3,22,6,15,11)$ and\n",
    "$(15,30,7,11,28,3,17)$, what is their Jaccard similarity?"
   ]
  },
  {
   "cell_type": "code",
   "execution_count": 1,
   "metadata": {},
   "outputs": [],
   "source": [
    "# write your code here"
   ]
  },
  {
   "cell_type": "markdown",
   "metadata": {},
   "source": [
    "*Write your answer here*"
   ]
  },
  {
   "cell_type": "markdown",
   "metadata": {},
   "source": [
    "We can also represent the Jaccard similarity in a similarity matrix, which is basically a one-hot encoding of the set.\n",
    "\n",
    "### Task 1.3\n",
    "Given sets $S_1 = \\{1, 2, 5\\}, S_2 = \\{3\\}, S_3 = \\{2, 3, 4, 6\\}, S_4 = \\{1, 4, 6\\}$, compute the matrix."
   ]
  },
  {
   "cell_type": "markdown",
   "metadata": {},
   "source": [
    "*write your result here*"
   ]
  },
  {
   "cell_type": "markdown",
   "metadata": {},
   "source": [
    "## Part 2: MinHash\n",
    "\n",
    "We can also use MinHashing *(min-wise independent permutations locality sensitive hashing scheme)* to estimate how similar sets are."
   ]
  },
  {
   "cell_type": "markdown",
   "metadata": {},
   "source": [
    "For this, let us take a look at how we can compute MinHash from the matrix given above.\n",
    "\n",
    "This requires a number of steps:\n",
    "1. Randomly permute the items. *Note: This likely means to shuffle the rows of your matrix.*\n",
    "2. For the permutation $\\pi$, find the first item $e$ that is contained within each set. Set $M_\\pi(S_i) = e$ for each set $i$.\n",
    "3. Estimate the Jaccard similarity of all sets $i, j$ as $J(S_i, S_j) = 1$ if $M_\\pi(S_i) = M_\\pi(S_j)$, else $0$."
   ]
  },
  {
   "cell_type": "markdown",
   "metadata": {},
   "source": [
    "### Task 2.1\n",
    "Compute the estimated Jaccard similarity with the method described above for the sets from **Task 1.3**."
   ]
  },
  {
   "cell_type": "markdown",
   "metadata": {},
   "source": [
    "-*Write your result here*-"
   ]
  },
  {
   "cell_type": "markdown",
   "metadata": {},
   "source": [
    "It is possible to prove that the Jaccard similarity is within $\\varepsilon$ error with probability at least $1 − \\delta$ if we repeat this $k = (2/\\varepsilon^2) ln(2/\\delta)$ times.\n",
    "\n",
    "As you might have noticed, this is computationally expensive, as we need to construct the full matrix, and we need to permute it $k$ times. A faster way to do this is the *MinHash* algorithm."
   ]
  },
  {
   "cell_type": "markdown",
   "metadata": {},
   "source": [
    "We can implement our own hash function like this:"
   ]
  },
  {
   "cell_type": "code",
   "execution_count": 4,
   "metadata": {},
   "outputs": [],
   "source": [
    "def hash(a, b, prime, x):\n",
    "    return (a * x + b) % prime"
   ]
  },
  {
   "cell_type": "markdown",
   "metadata": {},
   "source": [
    "Still, you would think that we need $k$ different hash functions, but as we have seen in the lecture it can be enough to compute the *MinHash* signature."
   ]
  }
 ],
 "metadata": {
  "kernelspec": {
   "display_name": "Python 3 (ipykernel)",
   "language": "python",
   "name": "python3"
  },
  "language_info": {
   "codemirror_mode": {
    "name": "ipython",
    "version": 3
   },
   "file_extension": ".py",
   "mimetype": "text/x-python",
   "name": "python",
   "nbconvert_exporter": "python",
   "pygments_lexer": "ipython3",
   "version": "3.8.10"
  }
 },
 "nbformat": 4,
 "nbformat_minor": 4
}
