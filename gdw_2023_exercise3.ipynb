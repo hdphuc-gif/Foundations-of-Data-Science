{
 "cells": [
  {
   "cell_type": "markdown",
   "metadata": {},
   "source": [
    "# Foundations of Data Science (GDW) 2023\n",
    "\n",
    "\n",
    "\n",
    "# Exercise III: Markov Chains & PageRank\n",
    "\n",
    "In the lecture, we have already taken a look at *PageRank*, an algorithm used by Google for their well-known search engine. Let us take a step back and study Markov chains first.\n",
    "\n",
    "## Part 1: Markov Chains\n",
    "\n",
    "Markov chains are a tool for observing stochastic processes that evolve over time. \n",
    "\n",
    "**Definition** A discrete Markov chain is a sequence of random variables $X_0, X_1, X_2,\\dots$ that satisfy the Markov property, meaning that for all time steps $t$, the probability distribution for $X_{t+1}$ depends only on $X_t$. \n"
   ]
  },
  {
   "cell_type": "markdown",
   "metadata": {},
   "source": [
    "For better understanding, let us take a loot at an example.\n",
    "\n",
    "\n",
    "Hint: For graph algorithms, python provides the package `networkx`. \n",
    "With this package, you may easily\n",
    "create a directed graph $G = (V, E)$ by its edgelist $E$ as follows (we added some matplotlib functions\n",
    "to plot the graph):"
   ]
  },
  {
   "cell_type": "markdown",
   "metadata": {},
   "source": [
    "We consider a graph $G$ with 3 nodes. For every edge $e \\in E$, the transition matrix describes the possibility of tranistioning between the connected nodes. If there is no edge between two nodes, the probability is 0.\n",
    "\n",
    "The graph shows the relations of different weather conditions given a current state. The probabilities can be seen in the transition matrix $T$ below:\n",
    "$T = \\begin{bmatrix}\n",
    "    2/3 & 1/3 & 0 \\\\\n",
    "    1/2 & 0 & 1/2 \\\\\n",
    "    1/3 & 1/3 & 1/3\n",
    "    \\end{bmatrix}$"
   ]
  },
  {
   "cell_type": "code",
   "execution_count": null,
   "metadata": {},
   "outputs": [],
   "source": [
    "import matplotlib.pyplot as plt\n",
    "import networkx as nx\n",
    "\n",
    "states = [(0, 0), (0, 1), (1, 0), (2, 2), (2, 0), (2, 1), (1, 2)]\n",
    "labels = {0: \"sunny\", 1: \"cloudy\", 2: \"rainy\"}\n",
    "T = [[2/3, 1/3, 0], [1/2, 0, 1/2], [1/3, 1/3, 1/3]]\n",
    "\n",
    "G = nx.MultiDiGraph()\n",
    "G.clear()\n",
    "G.add_edges_from(states)\n",
    "#G.add_edges_from([(1, 2), (3,1), (3,4)])\n",
    "pos = nx.spring_layout(G)\n",
    "nx.draw(G,pos,with_labels = False)\n",
    "nx.draw_networkx_labels(G, pos, labels, font_size=22)\n",
    "plt.show() # display"
   ]
  },
  {
   "cell_type": "markdown",
   "metadata": {},
   "source": [
    "### Task 1.1\n",
    "Let $\\rho_t$ be the probability distribution on the states of day $t$. You can calculate the distribution for the next day by performing the vector-matrix-multiplication $\\rho_{t+1} = \\rho_t \\cdot T$.\n",
    "\n",
    "Assuming today's (day 0) weather is *sunny*, calculate the possibilities up to day 5, either by hand or programmatically."
   ]
  },
  {
   "cell_type": "code",
   "execution_count": null,
   "metadata": {},
   "outputs": [],
   "source": [
    "# Write your code/calculations here"
   ]
  },
  {
   "cell_type": "markdown",
   "metadata": {},
   "source": [
    "## Part 2: Stepwise PageRank\n",
    "\n",
    "Let us now consider the following graph."
   ]
  },
  {
   "cell_type": "code",
   "execution_count": null,
   "metadata": {},
   "outputs": [],
   "source": [
    "import matplotlib.pyplot as plt\n",
    "import networkx as nx\n",
    "G = nx.DiGraph()\n",
    "G.clear()\n",
    "G.add_edges_from([(1, 2), (2, 3), (3,4), (4,3), (4,5), (5,1),(5,2),(5,3),(5,4), (4,2)])\n",
    "#G.add_edges_from([(1, 2), (3,1), (3,4)])\n",
    "pos = nx.spring_layout(G)\n",
    "nx.draw(G,pos,with_labels = True)\n",
    "plt.show() # display"
   ]
  },
  {
   "cell_type": "markdown",
   "metadata": {},
   "source": [
    "We can use graphs to compute their PageRank.\n",
    "\n",
    "*Parts of the following code are obtained from \n",
    "https://michaelnielsen.org/blog/using-your-laptop-to-compute-pagerank-for-millions-of-webpages/*"
   ]
  },
  {
   "cell_type": "code",
   "execution_count": null,
   "metadata": {},
   "outputs": [],
   "source": [
    "import networkx as nx\n",
    "import numpy as np\n",
    "import numpy\n",
    "import random\n",
    "\n",
    "class web:\n",
    "  def __init__(self,n):\n",
    "    self.size = n\n",
    "    self.in_links = {}\n",
    "    self.number_out_links = {}\n",
    "    self.dangling_pages = {}\n",
    "    for j in range(n):\n",
    "      self.in_links[j] = []\n",
    "      self.number_out_links[j] = 0\n",
    "      self.dangling_pages[j] = True\n",
    "\n",
    "def web_from_nx(G):\n",
    "    edges = list(G.out_edges)\n",
    "    nodes = list(G.nodes)\n",
    "    n = len(nodes)\n",
    "    g = web(n)\n",
    "    a = np.matrix(G.out_edges)\n",
    "    for k in range(len(list(G.nodes))):\n",
    "        adj = a[np.where(a[:,1] == (k+1))[0],0].tolist()\n",
    "        values=list()\n",
    "        for node in adj:\n",
    "            values.append(node[0]-1)\n",
    "        g.in_links[k] = values\n",
    "        for j in values: \n",
    "            if g.number_out_links[j] == 0: g.dangling_pages.pop(j)\n",
    "            g.number_out_links[j] += 1\n",
    "    return g        \n",
    "\n",
    "def step(g,p,c=0.85):\n",
    "  n = g.size\n",
    "  v = numpy.matrix(numpy.zeros((n,1)))\n",
    "  inner_product = sum([p[j] for j in g.dangling_pages.keys()])\n",
    "  for j in range(n):\n",
    "    v[j] = c*sum([p[k]/g.number_out_links[k] \n",
    "    for k in g.in_links[j]]) + c*inner_product/n + (1-c)/n\n",
    "  return v/numpy.sum(v)    \n",
    "\n",
    "def pagerank(g,c=0.85,tolerance=0.00001):\n",
    "  n = g.size\n",
    "  p = numpy.matrix(numpy.ones((n,1)))/n\n",
    "  iteration = 1\n",
    "  change = 2\n",
    "  while change > tolerance:\n",
    "    #print (\"Iteration: %s\" % iteration)\n",
    "    new_p = step(g,p,c)\n",
    "    change = numpy.sum(numpy.abs(p-new_p))\n",
    "    #print (\"Change in l1 norm: %s\" % change)\n",
    "    p = new_p\n",
    "    iteration += 1\n",
    "  return p\n",
    "\n",
    "G = nx.DiGraph()\n",
    "G.clear()\n",
    "\n",
    "#G.add_edges_from([(1,2),(2,1),(3,1),(3,4),(4,3),(4,1)]) # spider trap\n",
    "#G.add_edges_from([(1,2),(1,3),(2,1),(2,3)]) # dead end\n",
    "\n",
    "G.add_edges_from([(1, 2), (2, 3), (3,4), (4,3), (4,5), (5,1),(5,2),(5,3),(5,4),(4,2)])\n",
    "g = web_from_nx(G)\n",
    "\n",
    "pr = pagerank(g,.99,0.0001)\n",
    "pr.transpose()"
   ]
  },
  {
   "cell_type": "code",
   "execution_count": null,
   "metadata": {},
   "outputs": [],
   "source": [
    "def paretosample(n,power=2.0):\n",
    "  # Returns a sample from a truncated Pareto distribution\n",
    "  # with probability mass function p(l) proportional to\n",
    "  # 1/l^power.  The distribution is truncated at l = n.'''\n",
    "  m = n+1\n",
    "  while m > n: m = numpy.random.zipf(power)\n",
    "  return m\n",
    "\n",
    "def random_web(n=1000,power=2.0):\n",
    "  g = web(n)\n",
    "  for k in range(n):\n",
    "    lk = paretosample(n+1,power)-1\n",
    "    values = random.sample(range(n),lk)\n",
    "    g.in_links[k] = values\n",
    "    for j in values: \n",
    "      if g.number_out_links[j] == 0: g.dangling_pages.pop(j)\n",
    "      g.number_out_links[j] += 1\n",
    "  return g\n",
    "\n",
    "g = random_web(10000,2.0) \n",
    "pr = pagerank(g,.99,0.0001)\n",
    "pr.transpose()"
   ]
  },
  {
   "cell_type": "markdown",
   "metadata": {},
   "source": [
    "### Task 2.1\n",
    "Based on the listing above apply pagerank to *dead ends* and observe the behaviour.\n",
    "In order to do that, you have to create your own graph first."
   ]
  },
  {
   "cell_type": "code",
   "execution_count": null,
   "metadata": {},
   "outputs": [],
   "source": [
    "# write your code here"
   ]
  },
  {
   "cell_type": "markdown",
   "metadata": {},
   "source": [
    "### Task 2.2\n",
    "Now, do the same thing for *spider traps*:"
   ]
  },
  {
   "cell_type": "code",
   "execution_count": null,
   "metadata": {},
   "outputs": [],
   "source": [
    "# write your code here"
   ]
  },
  {
   "cell_type": "markdown",
   "metadata": {},
   "source": [
    "## Part 3: PageRank with Matrices \n",
    "One option to store matrices in python is using nested lists. Another one are matrices using the `numpy` package.\n",
    "A matrix is a two-dimensional data structure where numbers are arranged into rows and columns. \n",
    "For example, using nested lists:\n",
    "\n",
    "```python\n",
    "A = [[1, 4, 5], \n",
    "    [-5, 8, 9]]\n",
    "```\n",
    "\n",
    "or `numpy` arrays:"
   ]
  },
  {
   "cell_type": "code",
   "execution_count": null,
   "metadata": {},
   "outputs": [],
   "source": [
    "import numpy as np\n",
    "\n",
    "A = np.array([[3, 6, 7], [5, -3, 0]])\n",
    "B = np.array([[1, 1], [2, 1], [3, -3]])\n",
    "\n",
    "D = A.dot(B) \n",
    "print(D)\n",
    "C = np.matmul(A,B) \n",
    "print(C)\n",
    "A_prime = A.transpose() # transpose of A\n",
    "print(A_prime)\n",
    "\n",
    "vector = np.array([1,1,1,1,1]).transpose()\n",
    "vector_normalized = vector/np.linalg.norm(vector,ord=1)"
   ]
  },
  {
   "cell_type": "markdown",
   "metadata": {},
   "source": [
    "Visit https://docs.scipy.org/doc/numpy-1.15.1/user/quickstart.html for a tutorial on matrix operations using numpy.\n",
    "\n",
    "## Task 3.1\n",
    "Given the numpy operators above, implement a matrix notation of pagerank using numpy from an adjacency matrix given as\n",
    "```python\n",
    "A=np.array([[0,0,0,0,.25],\n",
    "            [1,0,0,0,.25],\n",
    "            [0,1,0,.5,.25],\n",
    "            [0,0,1,0,.25],\n",
    "            [0,0,0,.5,0]])\n",
    "```"
   ]
  },
  {
   "cell_type": "code",
   "execution_count": null,
   "metadata": {},
   "outputs": [],
   "source": [
    "# write your code here"
   ]
  }
 ],
 "metadata": {
  "kernelspec": {
   "display_name": "Python 3 (ipykernel)",
   "language": "python",
   "name": "python3"
  },
  "language_info": {
   "codemirror_mode": {
    "name": "ipython",
    "version": 3
   },
   "file_extension": ".py",
   "mimetype": "text/x-python",
   "name": "python",
   "nbconvert_exporter": "python",
   "pygments_lexer": "ipython3",
   "version": "3.8.10"
  }
 },
 "nbformat": 4,
 "nbformat_minor": 4
}
