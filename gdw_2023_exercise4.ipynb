{
 "cells": [
  {
   "cell_type": "markdown",
   "metadata": {},
   "source": [
    "# Foundations of Data Science (GDW) 2023\n",
    "\n",
    "\n",
    "\n",
    "# Exercise IV: Sets & Frequent Item Set Mining\n",
    "\n",
    "In this weeks exercise we will take a look at mining frequent itemsets with the Apriori algorithm.\n",
    "\n",
    "## Part 1: (Frozen) Sets\n",
    "\n",
    "### Basic introduction\n",
    "Sets in python (set objects) were deﬁned according to the mathematical deﬁnition. Sets are unordered collections of objects which may occur at most once inside one set. Thus, we may not rely on an index to refer to a particular object in a set, nor on a key, as in a dictionary.\n",
    "\n",
    "Python distinguishes two set types:\n",
    "- `set` and\n",
    "- `frozenset`\n",
    "\n",
    "Objects of type set are mutable, whereas frozensets are immutable and may thus act as a key in a\n",
    "dictionary, or could itself become items of another set.\n"
   ]
  },
  {
   "cell_type": "code",
   "execution_count": null,
   "metadata": {},
   "outputs": [],
   "source": [
    "a = { 1, 2, 3, 2, 3 }\n",
    "print(a)\n",
    "type(a)"
   ]
  },
  {
   "cell_type": "code",
   "execution_count": null,
   "metadata": {},
   "outputs": [],
   "source": [
    "capitals = {\"Germany\": \"Berlin\", \"France\": \"Paris\", \"England\": \"London\"}\n",
    "frozencs = frozenset(capitals)\n",
    "print(frozencs)\n",
    "#frozencs.add(\"Barcelona\")"
   ]
  },
  {
   "cell_type": "markdown",
   "metadata": {},
   "source": [
    "An often used application of sets is to count the occurrence of unique values."
   ]
  },
  {
   "cell_type": "code",
   "execution_count": null,
   "metadata": {},
   "outputs": [],
   "source": [
    "pangram = \"A wizard's job is to vex chumps quickly in fog.\"\n",
    "for c in sorted(list(set(pangram))):\n",
    "    print('{}:{}x'.format(c,pangram.count(c)))"
   ]
  },
  {
   "cell_type": "markdown",
   "metadata": {},
   "source": [
    "A list of important set functions is given in the next codeblock."
   ]
  },
  {
   "cell_type": "code",
   "execution_count": null,
   "metadata": {},
   "outputs": [],
   "source": [
    "s1 = set(range(5))\n",
    "s2 = set(range(3, 10))\n",
    "s3 = set(range(10))\n",
    "\n",
    "print(\"join\" , end=\" \"); print(s1 | s2)\n",
    "print(\"join\" , end=\" \"); print(s1.union(s2))\n",
    "print(\"intersection\", end = \" \") ; print(s1 & s2)\n",
    "print(\"intersection\", end = \" \") ; print(s1.intersection(s2))\n",
    "print(\"difference\", end=\" \") ; print(s1 - s2)\n",
    "print(\"difference\", end=\" \") ; print(s1.difference(s2))\n",
    "\n",
    "# comparison\n",
    "print(s2.issubset(s3))\n",
    "print(s3.issuperset(s1))\n",
    "\n",
    "# clear a set\n",
    "s3.clear()\n",
    "print(s3)\n",
    "\n",
    "# add an element\n",
    "s1.add(9)\n",
    "print(s1)"
   ]
  },
  {
   "cell_type": "markdown",
   "metadata": {},
   "source": [
    "## Part 2: Frequent Itemset Mining & Apriori\n",
    "\n",
    "With these functions we can start a-priori frequent set mining with the following source code.\n",
    "\n",
    "### Task 2.1\n",
    "Extend the source code below to an apriori algorithm on D, use a threshold of 2. \n",
    "\n",
    "*Hint: Utilize `frozensets`, to include sets as elements of sets.*"
   ]
  },
  {
   "cell_type": "code",
   "execution_count": null,
   "metadata": {},
   "outputs": [],
   "source": [
    "def frequency(itemset, D):\n",
    "    return sum([1 for T in D if itemset.issubset(T)])\n",
    "\n",
    "I = 'abcdef'\n",
    "D = [set(x) for x in ['abc', 'acf', 'abce', 'de']]"
   ]
  },
  {
   "cell_type": "code",
   "execution_count": null,
   "metadata": {},
   "outputs": [],
   "source": [
    "# add your code here"
   ]
  },
  {
   "cell_type": "markdown",
   "metadata": {},
   "source": [
    "A Lattice is a partially ordered set in which every two elements have both\n",
    "- a supremum (least upper bound) and\n",
    "- an infimum (greatest lower bound).\n",
    "\n",
    "Here, we make use of the properties of the itemset *Lattice*:\n",
    "\n",
    "- $X \\subseteq Y$, $supp(Y) = t => supp(X) \\geq t$\n",
    "- $X \\supseteq Y$, $supp(X) < min_t => supp(Y) < min_t$\n",
    "\n",
    "For data mining in python, the package pandas provides a convenient data structure called *data frames*.\n",
    "\n",
    "The a-priori algorithm, however, is part of the `mlxtend` package. You can install the latter in\n",
    "jupyterlab by typing\n",
    "\n",
    "`!pip install mlxtend`"
   ]
  },
  {
   "cell_type": "code",
   "execution_count": null,
   "metadata": {},
   "outputs": [],
   "source": [
    "!pip install mlxtend"
   ]
  },
  {
   "cell_type": "markdown",
   "metadata": {},
   "source": [
    "With these two packages, you could perform frequent set mining as follows."
   ]
  },
  {
   "cell_type": "code",
   "execution_count": null,
   "metadata": {},
   "outputs": [],
   "source": [
    "import pandas as pd\n",
    "import numpy as np\n",
    "from mlxtend.frequent_patterns import apriori, association_rules\n",
    "\n",
    "D = [set(x) for x in ['abc', 'acf', 'abce', 'de']]\n",
    "\n",
    "df = pd.DataFrame(D)\n",
    "\n",
    "items = ['a', 'b', 'c', 'd', 'e', 'f']\n",
    "# We convert the data to one-hot encoding\n",
    "def onehot_encode(df, items):\n",
    "    itemset = set(items)\n",
    "    encoded_vals = []\n",
    "    for _, row in df.iterrows():\n",
    "        rowset = set(row)\n",
    "        labels = {}\n",
    "        uncommons = list(itemset - rowset)\n",
    "        commons = list(itemset.intersection(rowset))\n",
    "        for uc in uncommons:\n",
    "            labels[uc] = 0\n",
    "        for com in commons:\n",
    "            labels[com] = 1\n",
    "        encoded_vals.append(labels)\n",
    "    return encoded_vals\n",
    "\n",
    "ohe_items = onehot_encode(df, items)\n",
    "ohe_df = pd.DataFrame(ohe_items)\n",
    "print(ohe_df)\n",
    "\n",
    "# We know the data is boolean, so we can explicitly declare it as such\n",
    "freq_items = apriori(ohe_df.astype('bool'), min_support=0.4, use_colnames=True, verbose=1)\n",
    "freq_items"
   ]
  },
  {
   "cell_type": "markdown",
   "metadata": {},
   "source": [
    "Now for the fun part!\n",
    "\n",
    "We are able to extract association rules from these sets."
   ]
  },
  {
   "cell_type": "code",
   "execution_count": null,
   "metadata": {},
   "outputs": [],
   "source": [
    "rules = association_rules(freq_items, metric=\"confidence\", min_threshold=0.6)\n",
    "rules.sort_values(by='support', ascending=False).head()"
   ]
  },
  {
   "cell_type": "markdown",
   "metadata": {},
   "source": [
    "### Task 2.2\n",
    "Read the .csv file and print a collection of its unique elements:\n",
    "\n",
    "https://gist.githubusercontent.com/Harsh-Git-Hub/2979ec48043928ad9033d8469928e751/raw/72de943e040b8bd0d087624b154d41b2ba9d9b60/retail_dataset.csv."
   ]
  },
  {
   "cell_type": "code",
   "execution_count": null,
   "metadata": {},
   "outputs": [],
   "source": [
    "# add your code here"
   ]
  },
  {
   "cell_type": "markdown",
   "metadata": {},
   "source": [
    "### Task 2.3\n",
    "Perform frequent itemset mining on the data from **Task 2.1**. You can freely (within reason) choose a value for `min_support`."
   ]
  },
  {
   "cell_type": "code",
   "execution_count": null,
   "metadata": {},
   "outputs": [],
   "source": [
    "# add your code here"
   ]
  },
  {
   "cell_type": "markdown",
   "metadata": {},
   "source": [
    "## Part 3: Maximal/Closed Frequent Itemsets\n",
    "\n",
    "In the lecture you have seen algorithms to discover frequent itemsets. In practice, the number of frequent\n",
    "itemsets is very high so maximal frequent itemsets are of highest interest.\n",
    "\n",
    "By deﬁnition:\n",
    "- an itemset is maximal frequent if none of its immediate supersets is frequent. \n",
    "- an itemset is closed if none of its immediate supersets has the same support as the itemset."
   ]
  },
  {
   "cell_type": "markdown",
   "metadata": {},
   "source": [
    "### Task 3.1\n",
    "Given\n",
    "- items \"a\", \"b\", \"c\", \"d\", \"e\", \"f\"\n",
    "- a threshold of 2\n",
    "- transactions $\\{abc, acdef, abc, df\\}$\n",
    "compute all closed and maximal frequent itemsets of the transactions.\n",
    "\n",
    "You can do so programatically or by hand."
   ]
  },
  {
   "cell_type": "code",
   "execution_count": null,
   "metadata": {},
   "outputs": [],
   "source": [
    "# write your code here or"
   ]
  },
  {
   "cell_type": "markdown",
   "metadata": {},
   "source": [
    "*add your notes here*"
   ]
  },
  {
   "cell_type": "markdown",
   "metadata": {},
   "source": [
    "### Task 3.2\n",
    "Given above results, which of those itemsets is maximal? Which of these are closed?\n",
    "\n",
    "*Hint: It might help to visualize your findings.*"
   ]
  },
  {
   "cell_type": "markdown",
   "metadata": {},
   "source": [
    "Maximal sets: "
   ]
  },
  {
   "cell_type": "markdown",
   "metadata": {},
   "source": [
    "Closed sets:"
   ]
  }
 ],
 "metadata": {
  "kernelspec": {
   "display_name": "Python 3 (ipykernel)",
   "language": "python",
   "name": "python3"
  },
  "language_info": {
   "codemirror_mode": {
    "name": "ipython",
    "version": 3
   },
   "file_extension": ".py",
   "mimetype": "text/x-python",
   "name": "python",
   "nbconvert_exporter": "python",
   "pygments_lexer": "ipython3",
   "version": "3.8.10"
  }
 },
 "nbformat": 4,
 "nbformat_minor": 4
}
