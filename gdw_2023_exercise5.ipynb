{
 "cells": [
  {
   "cell_type": "markdown",
   "metadata": {},
   "source": [
    "# Foundations of Data Science (GDW) 2023\n",
    "\n",
    "\n",
    "\n",
    "# Exercise V: Association Rules & FP-Trees\n",
    "\n",
    "This week's exercise will be about how to evaluate association rules and tree-based algorithm for mining those.\n",
    "\n",
    "## Part 1: Metrics\n",
    "Given a rule $X \\rightarrow Y$, we know three metrics to measure its quality:\n",
    "- Support: $supp(X, Y) = \\frac{freq(X, Y)}{N}$\n",
    "- Confidence: $conf(X, Y) = \\frac{freq(X, Y)}{freq(X)}$\n",
    "- Lift: $lift(X, Y) = \\frac{supp(X, Y)}{supp(X)*(supp(Y)}$\n",
    "\n",
    "### Task 1.1\n",
    "Explain the intuitive meaning behind these three metrics. You may use a real-life example such as shopping, etc."
   ]
  },
  {
   "cell_type": "markdown",
   "metadata": {},
   "source": [
    "*Write your notes here:*\n",
    "\n",
    "...\n"
   ]
  },
  {
   "cell_type": "markdown",
   "metadata": {},
   "source": [
    "Now, execute the apriori code below to mine assocation rules."
   ]
  },
  {
   "cell_type": "code",
   "execution_count": 1,
   "metadata": {},
   "outputs": [
    {
     "ename": "ModuleNotFoundError",
     "evalue": "No module named 'pandas'",
     "output_type": "error",
     "traceback": [
      "\u001b[1;31m---------------------------------------------------------------------------\u001b[0m",
      "\u001b[1;31mModuleNotFoundError\u001b[0m                       Traceback (most recent call last)",
      "Cell \u001b[1;32mIn[1], line 1\u001b[0m\n\u001b[1;32m----> 1\u001b[0m \u001b[38;5;28;01mimport\u001b[39;00m \u001b[38;5;21;01mpandas\u001b[39;00m \u001b[38;5;28;01mas\u001b[39;00m \u001b[38;5;21;01mpd\u001b[39;00m\n\u001b[0;32m      2\u001b[0m \u001b[38;5;28;01mimport\u001b[39;00m \u001b[38;5;21;01mnumpy\u001b[39;00m \u001b[38;5;28;01mas\u001b[39;00m \u001b[38;5;21;01mnp\u001b[39;00m\n\u001b[0;32m      3\u001b[0m \u001b[38;5;28;01mfrom\u001b[39;00m \u001b[38;5;21;01mmlxtend\u001b[39;00m\u001b[38;5;21;01m.\u001b[39;00m\u001b[38;5;21;01mfrequent_patterns\u001b[39;00m \u001b[38;5;28;01mimport\u001b[39;00m apriori, association_rules\n",
      "\u001b[1;31mModuleNotFoundError\u001b[0m: No module named 'pandas'"
     ]
    }
   ],
   "source": [
    "import pandas as pd\n",
    "import numpy as np\n",
    "from mlxtend.frequent_patterns import apriori, association_rules\n",
    "\n",
    "D = [set(x) for x in ['abc', 'acf', 'abce', 'de', 'cfg', 'abfg', 'acdeg', 'abdfg', 'afg', 'abdefg', 'abdf']]\n",
    "\n",
    "df = pd.DataFrame(D)\n",
    "\n",
    "items = ['a', 'b', 'c', 'd', 'e', 'f', 'g']\n",
    "# We convert the data to one-hot encoding\n",
    "def onehot_encode(df, items):\n",
    "    itemset = set(items)\n",
    "    encoded_vals = []\n",
    "    for _, row in df.iterrows():\n",
    "        rowset = set(row)\n",
    "        labels = {}\n",
    "        uncommons = list(itemset - rowset)\n",
    "        commons = list(itemset.intersection(rowset))\n",
    "        for uc in uncommons:\n",
    "            labels[uc] = 0\n",
    "        for com in commons:\n",
    "            labels[com] = 1\n",
    "        encoded_vals.append(labels)\n",
    "    return encoded_vals\n",
    "\n",
    "ohe_items = onehot_encode(df, items)\n",
    "ohe_df = pd.DataFrame(ohe_items)\n",
    "\n",
    "# We know the data is boolean, so we can explicitly declare it as such\n",
    "freq_items = apriori(ohe_df.astype('bool'), min_support=0.4, use_colnames=True, verbose=1)\n",
    "rules = association_rules(freq_items, metric=\"confidence\", min_threshold=0.6)\n",
    "rules.sort_values(by='support', ascending=False)"
   ]
  },
  {
   "cell_type": "markdown",
   "metadata": {},
   "source": [
    "### Task 1.2\n",
    "Try to play with the value for minimum support and at the lift. You may choose threshold values for lift as you deem fit.\n",
    "\n",
    "Note your findings and try to give an explanation intuitively."
   ]
  },
  {
   "cell_type": "code",
   "execution_count": null,
   "metadata": {},
   "outputs": [],
   "source": [
    "freq_items = apriori(ohe_df.astype('bool'), min_support=0.4, use_colnames=True, verbose=1)\n",
    "rules = association_rules(freq_items, metric=\"lift\", min_threshold=1.2)\n",
    "rules.sort_values(by='support', ascending=True)"
   ]
  },
  {
   "cell_type": "markdown",
   "metadata": {},
   "source": [
    "*Write your notes here*\n",
    "\n",
    "..."
   ]
  },
  {
   "cell_type": "markdown",
   "metadata": {},
   "source": [
    "## Part 2: FP-Growth\n",
    "\n",
    "We know FP-Growth to be an alternative to the Apriori algorithm that does not need to generate candidates.\n",
    "\n",
    "The code below generates a transaction database for the given dataset."
   ]
  },
  {
   "cell_type": "code",
   "execution_count": null,
   "metadata": {},
   "outputs": [],
   "source": [
    "dataset = [[\"beer\",\"nuts\",\"diaper\"],\n",
    "            [\"beer\",\"coffee\",\"diaper\"],\n",
    "            [\"beer\",\"diaper\",\"eggs\"],\n",
    "            [\"nuts\",\"eggs\",\"milk\"],\n",
    "            [\"nuts\",\"coffee\",\"diaper\",\"eggs\",\"milk\"],\n",
    "            [\"beer\", \"coffee\"]]\n",
    "\n",
    "import pandas as pd\n",
    "from mlxtend.preprocessing import TransactionEncoder\n",
    "\n",
    "te = TransactionEncoder()\n",
    "te_ary = te.fit(dataset).transform(dataset)\n",
    "df = pd.DataFrame(te_ary, columns=te.columns_)\n",
    "df"
   ]
  },
  {
   "cell_type": "markdown",
   "metadata": {},
   "source": [
    "You can visit https://planktonfun.github.io/FPTreeSimulator/ to see a visualization of the tree.\n",
    "\n",
    "*Note: To get the result for the transaction database above,\n",
    "add {beer,coffee} to the end of the list.*\n",
    "\n",
    "Now, we will execute the FP-Growth algorithm that internally uses FP-Trees."
   ]
  },
  {
   "cell_type": "code",
   "execution_count": null,
   "metadata": {},
   "outputs": [],
   "source": [
    "from mlxtend.frequent_patterns import fpgrowth\n",
    "\n",
    "fp_items = fpgrowth(df, min_support=0.5, use_colnames=True)\n",
    "fp_items"
   ]
  },
  {
   "cell_type": "code",
   "execution_count": null,
   "metadata": {},
   "outputs": [],
   "source": [
    "fp_rules = association_rules(fp_items, metric=\"lift\", min_threshold=1.0)\n",
    "fp_rules"
   ]
  },
  {
   "cell_type": "markdown",
   "metadata": {},
   "source": [
    "### Task 2.1\n",
    "Given transactions $\\{bce, bcd, abde, abce, abde, abcde\\}$, perform the necessary steps to generate an FP-Tree by hand."
   ]
  },
  {
   "cell_type": "markdown",
   "metadata": {},
   "source": [
    "*Write your notes here*\n",
    "\n",
    "..."
   ]
  },
  {
   "cell_type": "markdown",
   "metadata": {},
   "source": [
    "### Task 2.2\n",
    "Given the *FP-Tree* above, convert it to a *Conditional FP-Tree*."
   ]
  },
  {
   "cell_type": "markdown",
   "metadata": {},
   "source": [
    "*Write your notes here*\n",
    "\n",
    "..."
   ]
  },
  {
   "cell_type": "markdown",
   "metadata": {},
   "source": [
    "### Task 2.3\n",
    "Compare the runtime performances of FP-Growth to Apriori.\n",
    "\n",
    "*Hint: You can measure the duration an algorithm `f(...)` runs with* \n",
    "\n",
    "`%timeit -n 100 -r 10 f(...)`\n"
   ]
  },
  {
   "cell_type": "code",
   "execution_count": null,
   "metadata": {},
   "outputs": [],
   "source": [
    "# add your code here"
   ]
  },
  {
   "cell_type": "markdown",
   "metadata": {},
   "source": [
    "### Task 2.4\n",
    "Can you name one (or more) advantage(s) that Apriori has over FP-Growth?"
   ]
  },
  {
   "cell_type": "markdown",
   "metadata": {},
   "source": [
    "*Write your notes here*\n",
    "\n",
    "..."
   ]
  }
 ],
 "metadata": {
  "kernelspec": {
   "display_name": "Python 3 (ipykernel)",
   "language": "python",
   "name": "python3"
  },
  "language_info": {
   "codemirror_mode": {
    "name": "ipython",
    "version": 3
   },
   "file_extension": ".py",
   "mimetype": "text/x-python",
   "name": "python",
   "nbconvert_exporter": "python",
   "pygments_lexer": "ipython3",
   "version": "3.11.5"
  }
 },
 "nbformat": 4,
 "nbformat_minor": 4
}
