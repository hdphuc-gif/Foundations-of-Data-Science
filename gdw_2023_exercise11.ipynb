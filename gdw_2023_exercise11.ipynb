{
 "cells": [
  {
   "cell_type": "markdown",
   "metadata": {},
   "source": [
    "# Foundations of Data Science (GDW) 2023\n",
    "\n",
    "\n",
    "\n",
    "# Exercise XI: Graphical Models\n",
    "\n",
    "This weeks' exercise is about (probabilistic) graphical models, in short (P)GMs."
   ]
  },
  {
   "cell_type": "markdown",
   "metadata": {},
   "source": [
    "## Part 1: Monty Hall\n",
    "Execute the code below:"
   ]
  },
  {
   "cell_type": "code",
   "execution_count": null,
   "metadata": {},
   "outputs": [],
   "source": [
    "from PIL import Image\n",
    "from IPython.display import display\n",
    "import urllib.request\n",
    "from io import BytesIO \n",
    "\n",
    "url = 'https://brilliant-staff-media.s3-us-west-2.amazonaws.com/tiffany-wang/gWotbuEdYC.png'\n",
    "with urllib.request.urlopen(url) as url:\n",
    "    img = Image.open(BytesIO(url.read()))\n",
    "\n",
    "display(img)\n"
   ]
  },
  {
   "cell_type": "markdown",
   "metadata": {},
   "source": [
    "Consider the following problem:\n",
    "\n",
    "Suppose you are on a game show, and you are given the choice of three doors: \n",
    "\n",
    "Behind one door is a car; behind the others, goats. \n",
    "\n",
    "You pick a door, say No. 1, and the host, who knows what's behind the doors, opens another door, say No. 3, which has a goat. He then says to you, \"Do you want to pick door No. 2?\" Is it to your advantage to switch your choice?"
   ]
  },
  {
   "cell_type": "markdown",
   "metadata": {},
   "source": [
    "### Task 1.1\n",
    "Think about the problem and come up with a justified answer."
   ]
  },
  {
   "cell_type": "markdown",
   "metadata": {},
   "source": [
    "*write your answer here*"
   ]
  },
  {
   "cell_type": "markdown",
   "metadata": {},
   "source": [
    "Thankfully, we can also model the given problem with a Bayesian network.\n",
    "The graph should have three nodes, each representing the door chosen:\n",
    "- The door selected by the Guest\n",
    "- The door containing the prize (car)\n",
    "- The door Monty chooses to open\n",
    "\n",
    "For this, we first install the `pgmpy` library.\n",
    "\n",
    "*Note: There are other libraries that you can do this with, that each offer a different set of functionalities: \n",
    "`pomegranate`, `pyAgrum` and `bnlearn` (CRAN-R)*"
   ]
  },
  {
   "cell_type": "code",
   "execution_count": null,
   "metadata": {},
   "outputs": [],
   "source": [
    "!pip install pgmpy"
   ]
  },
  {
   "cell_type": "markdown",
   "metadata": {},
   "source": [
    "Let us now create a probabilistic model for the problem."
   ]
  },
  {
   "cell_type": "code",
   "execution_count": null,
   "metadata": {},
   "outputs": [],
   "source": [
    "from pgmpy.models import BayesianNetwork\n",
    "from pgmpy.factors.discrete import TabularCPD\n",
    "\n",
    "# Defining the network structure\n",
    "edgelist = [(\"Guest\", \"Monty\"), (\"Prize\", \"Monty\")]\n",
    "model = BayesianNetwork(edgelist)\n",
    "\n",
    "# Defining the conditional probability distribution tables:\n",
    "# Documentation can be found here: https://pgmpy.org/factors/discrete.html\n",
    "cpd_guest = TabularCPD(\"Guest\", 3, [[0.33], [0.33], [0.33]])\n",
    "cpd_prize = TabularCPD(\"Prize\", 3, [[0.33], [0.33], [0.33]])\n",
    "cpd_monty = TabularCPD(\"Monty\", 3, [[0, 0, 0, 0, 0.5, 1, 0, 1, 0.5],\n",
    "                                    [0.5, 0, 1, 0, 0, 0, 1, 0, 0.5],\n",
    "                                    [0.5, 1, 0, 1, 0.5, 0, 0, 0, 0],\n",
    "                                   ],\n",
    "                       evidence=[\"Guest\", \"Prize\"],\n",
    "                       evidence_card=[3, 3],\n",
    "                      )\n",
    "\n",
    "# Associating the CPDs with the network structure.\n",
    "model.add_cpds(cpd_guest, cpd_prize, cpd_monty)"
   ]
  },
  {
   "cell_type": "markdown",
   "metadata": {},
   "source": [
    "And we may also check for validity issues:"
   ]
  },
  {
   "cell_type": "code",
   "execution_count": null,
   "metadata": {},
   "outputs": [],
   "source": [
    "# check model validity\n",
    "model.check_model()"
   ]
  },
  {
   "cell_type": "markdown",
   "metadata": {},
   "source": [
    "Now we infer the posterior probability of the process:"
   ]
  },
  {
   "cell_type": "code",
   "execution_count": null,
   "metadata": {},
   "outputs": [],
   "source": [
    "# Infering the posterior probability\n",
    "from pgmpy.inference import VariableElimination\n",
    "\n",
    "infer = VariableElimination(model)\n",
    "posterior_prize = infer.query([\"Prize\"], evidence={\"Guest\": 0, \"Monty\": 2})\n",
    "print(posterior_prize)"
   ]
  },
  {
   "cell_type": "markdown",
   "metadata": {},
   "source": [
    "*write your answers here*"
   ]
  },
  {
   "cell_type": "markdown",
   "metadata": {},
   "source": [
    "## Part 2: Conditional Independence\n",
    "The structure of Bayesian Networks encodes the conditional independence of the modelled distribution.\n",
    "Every variable is conditional independent from its non ancestors given its parents. This statement is\n",
    "hard to apply. Instead, we provide an algorithm to test for conditional independence.\n",
    "\n",
    "1. Construct heritage graph, of all variables that occur in the question, their parents, their parents, etc. (You obtain a reduced version of the original network)\n",
    "2. Moralize the graph, by connecting all parent nodes with the same children with undirected edges, in case of more than two parents connect all pairs\n",
    "3. Replace directed by undirected edges\n",
    "4. Remove given variables and their edges from the graph\n",
    "5. Two variables are conditionally independent, if they are not connected by any path in the resulting network"
   ]
  },
  {
   "cell_type": "markdown",
   "metadata": {},
   "source": [
    "Given the following structure of a Bayesian Network below, use the algorithm above to answer the questions\n",
    "of conditional independence."
   ]
  },
  {
   "cell_type": "code",
   "execution_count": null,
   "metadata": {},
   "outputs": [],
   "source": [
    "import networkx as nx\n",
    "import matplotlib.pyplot as plt\n",
    "\n",
    "edgelist = [(\"A\", \"C\"), (\"B\", \"C\"), (\"C\", \"E\"), (\"C\", \"D\"), (\"D\", \"F\"), (\"F\", \"G\")]\n",
    "labels = {\"A\": \"A\", \"B\": \"B\", \"C\": \"C\", \"D\": \"D\", \"E\": \"E\", \"F\": \"F\", \"G\": \"G\"}\n",
    "G = nx.DiGraph(edgelist)\n",
    "pos = nx.planar_layout(G)\n",
    "nx.draw(G, pos, with_labels=False, node_size=800, node_color='#aaf4d9')\n",
    "nx.draw_networkx_labels(G, pos, labels, font_size=22)\n",
    "plt.show()"
   ]
  },
  {
   "cell_type": "markdown",
   "metadata": {},
   "source": [
    "### Task 2.1\n",
    "Construct the network following the algorithm above.\n",
    "\n",
    "- Are A and B conditionally independent given D and F ?\n",
    "- Are D and E conditionally independent given C?\n",
    "- Are D and E conditionally independent given A and B?"
   ]
  },
  {
   "cell_type": "markdown",
   "metadata": {},
   "source": [
    "*write your answer below*"
   ]
  }
 ],
 "metadata": {
  "kernelspec": {
   "display_name": "Python 3 (ipykernel)",
   "language": "python",
   "name": "python3"
  },
  "language_info": {
   "codemirror_mode": {
    "name": "ipython",
    "version": 3
   },
   "file_extension": ".py",
   "mimetype": "text/x-python",
   "name": "python",
   "nbconvert_exporter": "python",
   "pygments_lexer": "ipython3",
   "version": "3.8.10"
  }
 },
 "nbformat": 4,
 "nbformat_minor": 4
}
